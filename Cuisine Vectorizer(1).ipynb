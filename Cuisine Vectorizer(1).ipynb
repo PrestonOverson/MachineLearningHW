{
 "cells": [
  {
   "cell_type": "markdown",
   "metadata": {},
   "source": [
    "# Cuisine: Predicting your next plate\n",
    "\n",
    "In this classification problem, the objective is to predict the type of cuisine given a recipe. Data was provided by Yummly through Kaggle. \n",
    "\n",
    "### __*Analysis of Data*__\n",
    "\n",
    "In order to perform this task we applied the following procedure:\n",
    "1. Language Processing and Feature Generation \n",
    "2. Data Visualization \n",
    "3. LinearSVC model\n",
    "4. Random Forest Classifier\n",
    "5. XGBoost"
   ]
  },
  {
   "cell_type": "code",
   "execution_count": 16,
   "metadata": {},
   "outputs": [
    {
     "name": "stderr",
     "output_type": "stream",
     "text": [
      "[nltk_data] Downloading package wordnet to C:\\Users\\Preston\n",
      "[nltk_data]     Overson\\AppData\\Roaming\\nltk_data...\n",
      "[nltk_data]   Package wordnet is already up-to-date!\n"
     ]
    }
   ],
   "source": [
    "import json\n",
    "import pandas as pd\n",
    "import numpy as np # linear algebra\n",
    "from collections import Counter\n",
    "import nltk\n",
    "nltk.download('wordnet')\n",
    "from nltk.corpus.reader.wordnet import NOUN\n",
    "from nltk.corpus import wordnet\n",
    "from nltk.compat import python_2_unicode_compatible\n",
    "import re\n",
    "from nltk.stem import WordNetLemmatizer\n",
    "from sklearn.metrics import classification_report\n",
    "from sklearn.model_selection import train_test_split\n",
    "import sklearn.metrics\n",
    "from sklearn.feature_extraction.text import TfidfVectorizer\n",
    "import gc\n",
    "from sklearn.metrics import f1_score, classification_report\n",
    "from sklearn.ensemble import RandomForestClassifier\n",
    "from sklearn.metrics import f1_score, make_scorer\n",
    "from sklearn.model_selection import cross_val_score\n",
    "from sklearn.preprocessing import Imputer\n",
    "from sklearn.preprocessing import MinMaxScaler\n",
    "from sklearn.pipeline import Pipeline\n",
    "import sklearn\n",
    "from sklearn.model_selection import KFold\n",
    "from sklearn.metrics import accuracy_score\n",
    "from sklearn.metrics import confusion_matrix\n",
    "from sklearn.preprocessing import LabelEncoder\n",
    "from sklearn.preprocessing import FunctionTransformer\n",
    "from sklearn.feature_selection import SelectPercentile\n",
    "from sklearn.feature_extraction.text import CountVectorizer\n",
    "from sklearn.discriminant_analysis import LinearDiscriminantAnalysis\n",
    "from sklearn.neural_network import MLPClassifier\n",
    "from sklearn.pipeline import Pipeline\n",
    "import matplotlib.pyplot as plt\n",
    "import seaborn as sns\n",
    "from pprint import pprint\n",
    "import warnings\n",
    "warnings.filterwarnings(\"ignore\")\n",
    "\n",
    "\n",
    "\n",
    "# Model imports\n",
    "from sklearn.svm import LinearSVC\n",
    "from sklearn.linear_model import LogisticRegression\n",
    "from sklearn.ensemble import RandomForestClassifier\n",
    "\n",
    "#visualization\n",
    "import matplotlib.pyplot as plt\n",
    "import seaborn as sns\n",
    "\n",
    "\n",
    "# Read in data\n",
    "traindf = pd.read_json(\"train.JSON\")"
   ]
  },
  {
   "cell_type": "markdown",
   "metadata": {},
   "source": [
    "The data consists of lists of ingredients, and labels indicating the type of cuisine. First we wanted to simplify the ingrediant lists. We did this by using a word lemmatizer to consolidate similar words. For example eggs become egg. This should reduce the number of features in our dataset without losing information."
   ]
  },
  {
   "cell_type": "code",
   "execution_count": 4,
   "metadata": {},
   "outputs": [],
   "source": [
    "#Running Word Lemmatization\n",
    "traindf['ingredients_clean_string'] = [' , '.join(z).strip() for z in traindf['ingredients']]  \n",
    "traindf['ingredients_string'] = [' '.join([WordNetLemmatizer().lemmatize(re.sub('[^A-Za-z]', ' ', line)) for line in lists]).strip() for lists in traindf['ingredients']]  "
   ]
  },
  {
   "cell_type": "markdown",
   "metadata": {},
   "source": [
    "The lemmatizer worked decently well. After simplifying the ingrediants we then needed to create dummy variables for each incrediant in the dataset and fill in each dummy variable with the ingredients from each recipe. This was important because it allowed us to create a dataset to help us perform our modeling. In our first attempt we used a for loop that took each ingredient in a unique ingredient list and created a column for that ingredient, then went through each recipe and inputed a 1 or 0 if the ingredient was found. Because we it was 3 for loops on 2 large dataset, our computer ran all night and still did not produce results. So we tried something else. In our second attempt we used vectorization to create matrix of our data that was easier and much faster for our machine to produce results."
   ]
  },
  {
   "cell_type": "code",
   "execution_count": 5,
   "metadata": {},
   "outputs": [],
   "source": [
    "# Running Vectorizer\n",
    "corpus = traindf['ingredients_string']\n",
    "vectorizertr = TfidfVectorizer()\n",
    "train_vect=vectorizertr.fit_transform(corpus).todense()"
   ]
  },
  {
   "cell_type": "markdown",
   "metadata": {},
   "source": [
    "We wanted to do a little more data exploration and so we plotted a graph to give us a good idea of just how much data we were working with. We also did this so we had a good grasp on the data to make sure things added up. In this plot you can observe how balanced the classes are. Some classes such as brazilian, korean and russian are under represented in the data."
   ]
  },
  {
   "cell_type": "code",
   "execution_count": 6,
   "metadata": {},
   "outputs": [
    {
     "data": {
      "text/plain": [
       "(array([ 0,  1,  2,  3,  4,  5,  6,  7,  8,  9, 10, 11, 12, 13, 14, 15, 16,\n",
       "        17, 18, 19]), <a list of 20 Text xticklabel objects>)"
      ]
     },
     "execution_count": 6,
     "metadata": {},
     "output_type": "execute_result"
    },
    {
     "data": {
      "image/png": "[encoded data removed]",
      "text/plain": [
       "<Figure size 432x288 with 1 Axes>"
      ]
     },
     "metadata": {
      "needs_background": "light"
     },
     "output_type": "display_data"
    }
   ],
   "source": [
    "sns.countplot(x=\"cuisine\", data=traindf)\n",
    "plt.xticks(rotation=60)"
   ]
  },
  {
   "cell_type": "markdown",
   "metadata": {},
   "source": [
    "Looking at the shape of our dataset, we have 39774 observations and 2996 unique ingrediants (features)"
   ]
  },
  {
   "cell_type": "code",
   "execution_count": 7,
   "metadata": {},
   "outputs": [
    {
     "data": {
      "text/plain": [
       "(39774, 2996)"
      ]
     },
     "execution_count": 7,
     "metadata": {},
     "output_type": "execute_result"
    }
   ],
   "source": [
    "train_vect.shape"
   ]
  },
  {
   "cell_type": "code",
   "execution_count": 8,
   "metadata": {},
   "outputs": [
    {
     "data": {
      "text/plain": [
       "matrix([[0., 0., 0., ..., 0., 0., 0.],\n",
       "        [0., 0., 0., ..., 0., 0., 0.],\n",
       "        [0., 0., 0., ..., 0., 0., 0.],\n",
       "        ...,\n",
       "        [0., 0., 0., ..., 0., 0., 0.],\n",
       "        [0., 0., 0., ..., 0., 0., 0.],\n",
       "        [0., 0., 0., ..., 0., 0., 0.]])"
      ]
     },
     "execution_count": 8,
     "metadata": {},
     "output_type": "execute_result"
    }
   ],
   "source": [
    "# defining the target variable cuisine\n",
    "target = traindf['cuisine']\n",
    "train_vect"
   ]
  },
  {
   "cell_type": "code",
   "execution_count": 9,
   "metadata": {},
   "outputs": [],
   "source": [
    "# Getting feature names\n",
    "features = vectorizertr.get_feature_names()"
   ]
  },
  {
   "cell_type": "code",
   "execution_count": 10,
   "metadata": {},
   "outputs": [],
   "source": [
    "# Getting our train and test datasets \n",
    "X_train, X_test, y_train, y_test = train_test_split(train_vect, target, test_size=0.30, random_state=42)"
   ]
  },
  {
   "cell_type": "markdown",
   "metadata": {},
   "source": [
    "### __*Model (LinearSVC Support Vector Machine Classifier)*__"
   ]
  },
  {
   "cell_type": "markdown",
   "metadata": {},
   "source": [
    "This models attempt to fit a hyperplane in order to seperate the data in multiple dimensions. It uses the points that are closests to the hyperplane to define seperation between classes. In cases where there is mulitple classes like this data, multiple models are created in a one verse all situation and each model will vote on the dominant class. Because of this models nature we felt it would be perfect with our data."
   ]
  },
  {
   "cell_type": "markdown",
   "metadata": {},
   "source": [
    "Right off the bat the default parameters performed really well and the F1 score was comparable to other competitors on Kaggle. We wanted to see if we could improve our score and see how high we could get."
   ]
  },
  {
   "cell_type": "code",
   "execution_count": 11,
   "metadata": {},
   "outputs": [
    {
     "name": "stdout",
     "output_type": "stream",
     "text": [
      "0.7816523188241796\n"
     ]
    }
   ],
   "source": [
    "# Fitting and Predicting using default LinearSVC\n",
    "model = LinearSVC().fit(X_train, y_train)\n",
    "pred = model.predict(X_test)\n",
    "f1 = f1_score(y_test,pred, average='weighted')\n",
    "print(f1)"
   ]
  },
  {
   "cell_type": "markdown",
   "metadata": {},
   "source": [
    "Here we applied our tuning. Using GridSearchCV (cross validation) we searched for the five recommended c-values as our starting point. A c-value is a hyperparameter that adjusts the amount of penalty for misclassification. "
   ]
  },
  {
   "cell_type": "code",
   "execution_count": 14,
   "metadata": {},
   "outputs": [],
   "source": [
    "# Defining a tuning GridSearchCV method\n",
    "from sklearn.model_selection import GridSearchCV\n",
    "def svc_param_selection(X, y, nfolds):\n",
    "    Cs = [0.001, 0.01, 0.1, 1, 10]\n",
    "    param_grid = {'C': Cs}\n",
    "    grid_search = GridSearchCV(LinearSVC(), param_grid= param_grid, scoring=make_scorer(f1_score, average='weighted'))\n",
    "    grid_search.fit(X, y)\n",
    "    grid_search.best_params_\n",
    "    return grid_search.best_params_"
   ]
  },
  {
   "cell_type": "code",
   "execution_count": 17,
   "metadata": {},
   "outputs": [
    {
     "data": {
      "text/plain": [
       "{'C': 1}"
      ]
     },
     "execution_count": 17,
     "metadata": {},
     "output_type": "execute_result"
    }
   ],
   "source": [
    "svc_param_selection(train_vect,target,10)"
   ]
  },
  {
   "cell_type": "markdown",
   "metadata": {},
   "source": [
    "Our tuning found that 1 was the best value. We figured that values close to one could help us gage what direction to go to see if we could climb a bit higher in our F1"
   ]
  },
  {
   "cell_type": "code",
   "execution_count": 18,
   "metadata": {},
   "outputs": [
    {
     "data": {
      "text/plain": [
       "{'C': 0.5}"
      ]
     },
     "execution_count": 18,
     "metadata": {},
     "output_type": "execute_result"
    }
   ],
   "source": [
    "# Redefining using different C-values\n",
    "def svc_param_selection(X, y, nfolds):\n",
    "    Cs = [.25, .5, 1, 1.5, 2]\n",
    "    param_grid = {'C': Cs}\n",
    "    grid_search = GridSearchCV(LinearSVC(), param_grid= param_grid, scoring=make_scorer(f1_score, average='weighted'))\n",
    "    grid_search.fit(X, y)\n",
    "    grid_search.best_params_\n",
    "    return grid_search.best_params_\n",
    "svc_param_selection(train_vect,target,10)"
   ]
  },
  {
   "cell_type": "code",
   "execution_count": 19,
   "metadata": {},
   "outputs": [
    {
     "data": {
      "text/plain": [
       "{'C': 0.5}"
      ]
     },
     "execution_count": 19,
     "metadata": {},
     "output_type": "execute_result"
    }
   ],
   "source": [
    "# Redefining using different C-values\n",
    "def svc_param_selection(X, y, nfolds):\n",
    "    Cs = [.4, .5, .6, .7, .3]\n",
    "    param_grid = {'C': Cs}\n",
    "    grid_search = GridSearchCV(LinearSVC(), param_grid= param_grid, scoring=make_scorer(f1_score, average='weighted'))\n",
    "    grid_search.fit(X, y)\n",
    "    grid_search.best_params_\n",
    "    return grid_search.best_params_\n",
    "svc_param_selection(train_vect,target,10)"
   ]
  },
  {
   "cell_type": "markdown",
   "metadata": {},
   "source": [
    "After tuning we found that the best c-value would be 0.5 and applied that to our model and then fitted the model to our entire training set. We then predicted on the test set and got a sweet F1 score! "
   ]
  },
  {
   "cell_type": "code",
   "execution_count": null,
   "metadata": {},
   "outputs": [],
   "source": [
    "#Fitting and Predicting optimal tuned SVC\n",
    "model = LinearSVC(C=.5).fit(X_train, y_train)\n",
    "pred = model.predict(X_test)\n",
    "f1 = f1_score(y_test,pred, average='weighted')\n",
    "print(f1)"
   ]
  },
  {
   "cell_type": "markdown",
   "metadata": {},
   "source": [
    "In order to check for overfitting we plotted the learning curve. Looking at the learning curve we observe that the training score and the cross validation score are both increasing and converging. Even thought the model is overfitting a little bit the fact that it is converging and the cross validation set is still doing well, overfitting is not huge issue in this case."
   ]
  },
  {
   "cell_type": "code",
   "execution_count": 21,
   "metadata": {},
   "outputs": [],
   "source": [
    "#Graphing learning_curve\n",
    "## source: http://scikit-learn.org/0.15/auto_examples/plot_learning_curve.html\n",
    "from sklearn.model_selection import learning_curve\n",
    "def plot_learning_curve(estimator, title, X, y, ylim=None, cv=None,\n",
    "                        n_jobs=1, train_sizes=np.linspace(.1, 1.0, 5)):\n",
    "    \"\"\"\n",
    "    Generate a simple plot of the test and traning learning curve.\n",
    "\n",
    "    Parameters\n",
    "    ----------\n",
    "    estimator : object type that implements the \"fit\" and \"predict\" methods\n",
    "        An object of that type which is cloned for each validation.\n",
    "\n",
    "    title : string\n",
    "        Title for the chart.\n",
    "\n",
    "    X : array-like, shape (n_samples, n_features)\n",
    "        Training vector, where n_samples is the number of samples and\n",
    "        n_features is the number of features.\n",
    "\n",
    "    y : array-like, shape (n_samples) or (n_samples, n_features), optional\n",
    "        Target relative to X for classification or regression;\n",
    "        None for unsupervised learning.\n",
    "\n",
    "    ylim : tuple, shape (ymin, ymax), optional\n",
    "        Defines minimum and maximum yvalues plotted.\n",
    "\n",
    "    cv : integer, cross-validation generator, optional\n",
    "        If an integer is passed, it is the number of folds (defaults to 3).\n",
    "        Specific cross-validation objects can be passed, see\n",
    "        sklearn.cross_validation module for the list of possible objects\n",
    "\n",
    "    n_jobs : integer, optional\n",
    "        Number of jobs to run in parallel (default 1).\n",
    "    \"\"\"\n",
    "    plt.figure()\n",
    "    plt.title(title)\n",
    "    if ylim is not None:\n",
    "        plt.ylim(*ylim)\n",
    "    plt.xlabel(\"Training examples\")\n",
    "    plt.ylabel(\"Score\")\n",
    "    train_sizes, train_scores, test_scores = learning_curve(\n",
    "        estimator, X, y, cv=cv, n_jobs=n_jobs, train_sizes=train_sizes, scoring=make_scorer(f1_score, average='weighted'))\n",
    "    train_scores_mean = np.mean(train_scores, axis=1)\n",
    "    train_scores_std = np.std(train_scores, axis=1)\n",
    "    test_scores_mean = np.mean(test_scores, axis=1)\n",
    "    test_scores_std = np.std(test_scores, axis=1)\n",
    "    plt.grid()\n",
    "\n",
    "    plt.fill_between(train_sizes, train_scores_mean - train_scores_std,\n",
    "                     train_scores_mean + train_scores_std, alpha=0.1,\n",
    "                     color=\"r\")\n",
    "    plt.fill_between(train_sizes, test_scores_mean - test_scores_std,\n",
    "                     test_scores_mean + test_scores_std, alpha=0.1, color=\"g\")\n",
    "    plt.plot(train_sizes, train_scores_mean, 'o-', color=\"r\",\n",
    "             label=\"Training score\")\n",
    "    plt.plot(train_sizes, test_scores_mean, 'o-', color=\"g\",\n",
    "             label=\"Cross-validation score\")\n",
    "\n",
    "    plt.legend(loc=\"best\")\n",
    "    return plt"
   ]
  },
  {
   "cell_type": "code",
   "execution_count": 22,
   "metadata": {},
   "outputs": [
    {
     "data": {
      "image/png": "[encoded data removed]",
      "text/plain": [
       "<Figure size 432x288 with 1 Axes>"
      ]
     },
     "metadata": {
      "needs_background": "light"
     },
     "output_type": "display_data"
    }
   ],
   "source": [
    "plot_learning_curve(LinearSVC(C=.05), \"Learning Curve\", train_vect, target, cv=10)\n",
    "plt.savefig('SVCLearningCurve.png')"
   ]
  },
  {
   "cell_type": "markdown",
   "metadata": {},
   "source": [
    "## Random Forest Classifier\n",
    "\n",
    "This is the first ensemble model that we tried. This model uses n number of weak decision trees to vote on the classification of an observation. This model tends to perform well on multiclass problems such as ours, so we decided to try it. \n",
    "\n",
    "Below we perform an intiial search on both depth and number of trees, to tune the model for better accuracy. We started with a more reserved number of trees, due to the size of the data, which caused the RCF to take a long time to fit."
   ]
  },
  {
   "cell_type": "code",
   "execution_count": 23,
   "metadata": {},
   "outputs": [
    {
     "name": "stdout",
     "output_type": "stream",
     "text": [
      "500    1    0.5444872805744317\n",
      "500    3    0.5585761726293346\n",
      "500    5    0.5817772001136959\n",
      "1000    1    0.5217335460990721\n",
      "1000    3    0.5627226794754643\n",
      "1000    5    0.590207926389359\n",
      "2500    1    0.52062016399474\n",
      "2500    3    0.5646968738044137\n",
      "2500    5    0.5874070944053275\n"
     ]
    }
   ],
   "source": [
    "n_estimators = [500, 1000, 2500]\n",
    "max_depth = [1, 3, 5]\n",
    "best_f1 = 0\n",
    "\n",
    "for est in n_estimators:\n",
    "    for depth in max_depth:\n",
    "        clf = RandomForestClassifier(n_estimators=est, max_depth=depth, oob_score=True, class_weight='balanced')\n",
    "        clf.fit(X_train, y_train)\n",
    "        pred = clf.predict(X_test)\n",
    "        f1 = f1_score(y_test, pred, average='weighted')\n",
    "        print (est, '  ', depth, '  ', f1)\n",
    "        if f1 > best_f1:\n",
    "            best_f1 = f1"
   ]
  },
  {
   "cell_type": "markdown",
   "metadata": {},
   "source": [
    "Already, this model seems to be underfitting compared to the Support Vector Machine. We will try some higher values of n and depth, as those seem to be improving the F1 score.\n",
    "\n",
    "As seen below, increasing the number of trees and depth helped the model to improve quite a bit. However, due to the length of time it is taking to search (4+hours), and the significantly lower F1 score compared to the SVM, the cost of further tuning on this model is greater than the benefit."
   ]
  },
  {
   "cell_type": "code",
   "execution_count": 24,
   "metadata": {},
   "outputs": [
    {
     "name": "stdout",
     "output_type": "stream",
     "text": [
      "5000    3    0.5650986839069996\n",
      "5000    5    0.5939635978067714\n",
      "5000    7    0.6125450226729603\n",
      "7500    3    0.5644774205596066\n",
      "7500    5    0.5910295090578808\n",
      "7500    7    0.6125337830780911\n"
     ]
    }
   ],
   "source": [
    "n_estimators = [5000, 7500]\n",
    "max_depth = [5, 7]\n",
    "best_f1 = 0\n",
    "\n",
    "for est in n_estimators:\n",
    "    for depth in max_depth:\n",
    "        clf = RandomForestClassifier(n_estimators=est, max_depth=depth, oob_score=True, class_weight='balanced')\n",
    "        clf.fit(X_train, y_train)\n",
    "        pred = clf.predict(X_test)\n",
    "        f1 = f1_score(y_test, pred, average='weighted')\n",
    "        print (est, '  ', depth, '  ', f1)\n",
    "        if f1 > best_f1:\n",
    "            best_f1 = f1"
   ]
  },
  {
   "cell_type": "code",
   "execution_count": 32,
   "metadata": {},
   "outputs": [
    {
     "data": {
      "image/png": "[encoded data removed]",
      "text/plain": [
       "<Figure size 1440x720 with 1 Axes>"
      ]
     },
     "metadata": {
      "needs_background": "light"
     },
     "output_type": "display_data"
    }
   ],
   "source": [
    "feature_imp = sorted(list(zip(features, clf.feature_importances_)), key=lambda x: x[1], reverse=True)\n",
    "feat_imp_short = feature_imp[:15]\n",
    "plt.figure(figsize=(20, 10))\n",
    "pd.Series([x[1] for x in feat_imp_short], index=[x[0] for x in feat_imp_short]).plot(kind='bar')\n",
    "plt.savefig('featimport.png')"
   ]
  },
  {
   "cell_type": "markdown",
   "metadata": {},
   "source": [
    "## XGBoost\n",
    "\n",
    "This is a versitle ensemble model that is similar to random forest, in that it uses voting with a combination of trees. It is unique in that each new model that it adds is trained on the errors of the previous model. This algorithm can be highly effective in many situstions. \n",
    "\n",
    "In this case, the data set was so large that tuning the model was near impossible. We started with a grid search of around 1000 trees, however after running it for 4 hours, had to abort it. We tried again, running the model overnight, and into the next day using 500, 1000, and 2500 trees, but after nearly 12 hours the model had only outputed information on the models fit with 500 trees. While the output on this test was promising (F1= 0.77), the shear amount of time required to run this model makes it almost unusable in this application. The code for XGBoost is included in this folder, but could not be included here, because of its extended runtime."
   ]
  }
 ],
 "metadata": {
  "kernelspec": {
   "display_name": "Python 3",
   "language": "python",
   "name": "python3"
  },
  "language_info": {
   "codemirror_mode": {
    "name": "ipython",
    "version": 3
   },
   "file_extension": ".py",
   "mimetype": "text/x-python",
   "name": "python",
   "nbconvert_exporter": "python",
   "pygments_lexer": "ipython3",
   "version": "3.7.1"
  }
 },
 "nbformat": 4,
 "nbformat_minor": 2
}
